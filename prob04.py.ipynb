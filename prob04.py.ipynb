{
 "cells": [
  {
   "cell_type": "code",
   "execution_count": null,
   "id": "e9657545",
   "metadata": {},
   "outputs": [],
   "source": [
    "arr = \"ababchfhhhffh\"\n",
    "a = []\n",
    "i = 0\n",
    "while i< len(arr)-1:\n",
    "    print(i)\n",
    "    if arr[i] not in a and arr[i]!= arr[i+1]:\n",
    "        a.append(arr[i])\n",
    "    else:\n",
    "\n",
    "        print(a)\n",
    "        a = []\n",
    "        i-=1\n",
    "    i +=1\n",
    " \n",
    "    \n",
    "    \n",
    "    "
   ]
  },
  {
   "cell_type": "code",
   "execution_count": null,
   "id": "7f305c5e",
   "metadata": {},
   "outputs": [],
   "source": []
  }
 ],
 "metadata": {
  "kernelspec": {
   "display_name": "Python 3 (ipykernel)",
   "language": "python",
   "name": "python3"
  },
  "language_info": {
   "codemirror_mode": {
    "name": "ipython",
    "version": 3
   },
   "file_extension": ".py",
   "mimetype": "text/x-python",
   "name": "python",
   "nbconvert_exporter": "python",
   "pygments_lexer": "ipython3",
   "version": "3.11.5"
  }
 },
 "nbformat": 4,
 "nbformat_minor": 5
}
