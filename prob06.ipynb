{
 "cells": [
  {
   "cell_type": "code",
   "execution_count": 104,
   "id": "64f3f715",
   "metadata": {},
   "outputs": [
    {
     "name": "stdout",
     "output_type": "stream",
     "text": [
      "7\n"
     ]
    }
   ],
   "source": [
    "dict = {\"I\":1,\n",
    "\"V\":5,\n",
    "\"X\":10,\n",
    "\"L\":50,\n",
    "\"C\":100,\n",
    "\"D\":500,\n",
    "\"M\":1000}\n",
    "seq_arr = ['M', 'D', 'C', 'L', 'X', 'V', 'I']\n",
    "given_roman = \"VII\"\n",
    "res = 0\n",
    "\n",
    "for i in range(len(given_roman)-1):\n",
    "     \n",
    "\n",
    "    if seq_arr.index(given_roman[i]) <= seq_arr.index(given_roman[i+1]):\n",
    "        res += dict[given_roman[i]]\n",
    "        \n",
    "    else:\n",
    "        res -= dict[given_roman[i]]\n",
    "        \n",
    "\n",
    "        \n",
    "           \n",
    "print(res+dict[given_roman[-1]])"
   ]
  },
  {
   "cell_type": "code",
   "execution_count": null,
   "id": "1daff27e",
   "metadata": {},
   "outputs": [],
   "source": []
  }
 ],
 "metadata": {
  "kernelspec": {
   "display_name": "Python 3 (ipykernel)",
   "language": "python",
   "name": "python3"
  },
  "language_info": {
   "codemirror_mode": {
    "name": "ipython",
    "version": 3
   },
   "file_extension": ".py",
   "mimetype": "text/x-python",
   "name": "python",
   "nbconvert_exporter": "python",
   "pygments_lexer": "ipython3",
   "version": "3.11.5"
  }
 },
 "nbformat": 4,
 "nbformat_minor": 5
}
