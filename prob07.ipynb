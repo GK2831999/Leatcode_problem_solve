{
 "cells": [
  {
   "cell_type": "code",
   "execution_count": 104,
   "id": "1831f27a",
   "metadata": {},
   "outputs": [
    {
     "name": "stdout",
     "output_type": "stream",
     "text": [
      "7\n"
     ]
    }
   ],
   "source": [
    "dict = {\"I\":1,\n",
    "\"V\":5,\n",
    "\"X\":10,\n",
    "\"L\":50,\n",
    "\"C\":100,\n",
    "\"D\":500,\n",
    "\"M\":1000}\n",
    "seq_arr = ['M', 'D', 'C', 'L', 'X', 'V', 'I']\n",
    "given_roman = \"VII\"\n",
    "res = 0\n",
    "\n",
    "for i in range(len(given_roman)-1):\n",
    "     \n",
    "\n",
    "    if seq_arr.index(given_roman[i]) <= seq_arr.index(given_roman[i+1]):\n",
    "        res += dict[given_roman[i]]\n",
    "        \n",
    "    else:\n",
    "        res -= dict[given_roman[i]]\n",
    "        \n",
    "\n",
    "        \n",
    "           \n",
    "print(res+dict[given_roman[-1]])"
   ]
  },
  {
   "cell_type": "code",
   "execution_count": 128,
   "id": "3ed82e89",
   "metadata": {},
   "outputs": [
    {
     "name": "stdout",
     "output_type": "stream",
     "text": [
      "flow\n",
      "\n"
     ]
    }
   ],
   "source": [
    "def retprefix():\n",
    "\n",
    "    strs =[\"reflower\",\"flow\",\"flight\"]\n",
    "\n",
    "    count = float('inf')\n",
    "    for i in strs:\n",
    "        if len(i) < count:\n",
    "            count = len(i)\n",
    "            k = i\n",
    "\n",
    "    s = \"\"\n",
    "    print(k)\n",
    "    p = 0\n",
    "    for m in k:\n",
    "\n",
    "        bool = False\n",
    "        for i in strs:\n",
    "            if i[p] == m:\n",
    "                bool = True \n",
    "            else:\n",
    "                return s\n",
    "\n",
    "        if bool: s+=m\n",
    "        else: return s\n",
    "        p+=1\n",
    "    return s\n",
    "print(retprefix())    "
   ]
  },
  {
   "cell_type": "code",
   "execution_count": 135,
   "id": "82584927",
   "metadata": {},
   "outputs": [
    {
     "name": "stdout",
     "output_type": "stream",
     "text": [
      "['flight', 'flower', 'reflow']\n",
      "\n"
     ]
    }
   ],
   "source": [
    "def longestCommonPrefix(v):\n",
    "    ans=\"\"\n",
    "    v=sorted(v)\n",
    "    print(v)\n",
    "    first=v[0]\n",
    "    last=v[-1]\n",
    "    for i in range(min(len(first),len(last))):\n",
    "        if(first[i]!=last[i]):\n",
    "            return ans\n",
    "        ans+=first[i]\n",
    "    return ans \n",
    "print(longestCommonPrefix([\"flower\",\"reflow\",\"flight\"]))"
   ]
  },
  {
   "cell_type": "code",
   "execution_count": null,
   "id": "a57daffa",
   "metadata": {},
   "outputs": [],
   "source": []
  }
 ],
 "metadata": {
  "kernelspec": {
   "display_name": "Python 3 (ipykernel)",
   "language": "python",
   "name": "python3"
  },
  "language_info": {
   "codemirror_mode": {
    "name": "ipython",
    "version": 3
   },
   "file_extension": ".py",
   "mimetype": "text/x-python",
   "name": "python",
   "nbconvert_exporter": "python",
   "pygments_lexer": "ipython3",
   "version": "3.11.5"
  }
 },
 "nbformat": 4,
 "nbformat_minor": 5
}
