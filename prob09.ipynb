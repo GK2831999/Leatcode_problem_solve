{
 "cells": [
  {
   "cell_type": "code",
   "execution_count": 128,
   "id": "6877869e",
   "metadata": {},
   "outputs": [
    {
     "name": "stdout",
     "output_type": "stream",
     "text": [
      "flow\n",
      "\n"
     ]
    }
   ],
   "source": [
    "def retprefix():\n",
    "\n",
    "    strs =[\"reflower\",\"flow\",\"flight\"]\n",
    "\n",
    "    count = float('inf')\n",
    "    for i in strs:\n",
    "        if len(i) < count:\n",
    "            count = len(i)\n",
    "            k = i\n",
    "\n",
    "    s = \"\"\n",
    "    print(k)\n",
    "    p = 0\n",
    "    for m in k:\n",
    "\n",
    "        bool = False\n",
    "        for i in strs:\n",
    "            if i[p] == m:\n",
    "                bool = True \n",
    "            else:\n",
    "                return s\n",
    "\n",
    "        if bool: s+=m\n",
    "        else: return s\n",
    "        p+=1\n",
    "    return s\n",
    "print(retprefix())    "
   ]
  },
  {
   "cell_type": "code",
   "execution_count": 135,
   "id": "f59e7882",
   "metadata": {},
   "outputs": [
    {
     "name": "stdout",
     "output_type": "stream",
     "text": [
      "['flight', 'flower', 'reflow']\n",
      "\n"
     ]
    }
   ],
   "source": [
    "def longestCommonPrefix(v):\n",
    "    ans=\"\"\n",
    "    v=sorted(v)\n",
    "    print(v)\n",
    "    first=v[0]\n",
    "    last=v[-1]\n",
    "    for i in range(min(len(first),len(last))):\n",
    "        if(first[i]!=last[i]):\n",
    "            return ans\n",
    "        ans+=first[i]\n",
    "    return ans \n",
    "print(longestCommonPrefix([\"flower\",\"reflow\",\"flight\"]))"
   ]
  },
  {
   "cell_type": "code",
   "execution_count": 173,
   "id": "222165ca",
   "metadata": {},
   "outputs": [
    {
     "name": "stdout",
     "output_type": "stream",
     "text": [
      "[]\n",
      "['(']\n",
      "[]\n",
      "['[']\n",
      "[]\n",
      "['{']\n",
      "True\n"
     ]
    }
   ],
   "source": [
    "arr_par= [\"(\",\")\",\"{\",\"}\",\"[\",\"]\"]\n",
    "strs = \"()[]{}\"\n",
    "dict ={\"(\":\")\",\"{\":\"}\",\"[\":\"]\"}\n",
    "bool = False\n",
    "arr = []\n",
    "\n",
    "for i in strs:\n",
    "    print(arr)\n",
    "    if i in [\"(\",\"{\",\"[\"]:\n",
    "        arr.append(i)\n",
    "        bool = True\n",
    "    elif i in [\")\",\"}\",\"]\"] and len(arr)>0:\n",
    "        if dict[arr[-1]]== i: bool = True \n",
    "        else: bool = False\n",
    "        arr.pop()\n",
    "    else:\n",
    "        bool = False\n",
    "        \n",
    "if len(arr)==0: print(bool)    \n",
    "else: print(False)"
   ]
  },
  {
   "cell_type": "code",
   "execution_count": 159,
   "id": "d99ad294",
   "metadata": {},
   "outputs": [
    {
     "name": "stdout",
     "output_type": "stream",
     "text": [
      "['(', ')', '{', '}', '[']\n"
     ]
    }
   ],
   "source": [
    "arr_par= [\"(\",\")\",\"{\",\"}\",\"[\",\"]\"]\n",
    "\n",
    "arr_par.pop()\n",
    "\n",
    "print(arr_par)"
   ]
  },
  {
   "cell_type": "code",
   "execution_count": null,
   "id": "0fe0d13d",
   "metadata": {},
   "outputs": [],
   "source": []
  }
 ],
 "metadata": {
  "kernelspec": {
   "display_name": "Python 3 (ipykernel)",
   "language": "python",
   "name": "python3"
  },
  "language_info": {
   "codemirror_mode": {
    "name": "ipython",
    "version": 3
   },
   "file_extension": ".py",
   "mimetype": "text/x-python",
   "name": "python",
   "nbconvert_exporter": "python",
   "pygments_lexer": "ipython3",
   "version": "3.11.5"
  }
 },
 "nbformat": 4,
 "nbformat_minor": 5
}
